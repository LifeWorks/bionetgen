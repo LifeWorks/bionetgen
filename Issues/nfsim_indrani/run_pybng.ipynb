{
 "cells": [
  {
   "cell_type": "code",
   "execution_count": 1,
   "metadata": {},
   "outputs": [],
   "source": [
    "import bionetgen"
   ]
  },
  {
   "cell_type": "code",
   "execution_count": 34,
   "metadata": {},
   "outputs": [
    {
     "name": "stdout",
     "output_type": "stream",
     "text": [
      "\n",
      "begin reaction rules\n",
      "  dZeta: Zeta() -> dead() kdl DeleteMolecules\n",
      "end reaction rules\n",
      "\n"
     ]
    }
   ],
   "source": [
    "#mname=\"deleteMolecules\"\n",
    "#mname=\"test_deleteMolecules\"\n",
    "mname= \"test_deleteMolecules_simple\"\n",
    "model= bionetgen.bngmodel(mname+\".bngl\")\n",
    "#with open(mname+\"_pybng.bngl\", \"w\") as f:\n",
    "#    f.write(str(model)) # writes the changed model to new_model file\n",
    "print(model.rules)\n",
    "#ret = bionetgen.run(\"Model_ZAP70_SYK.bngl\", out=\"HPC\",suppress=False)"
   ]
  },
  {
   "cell_type": "code",
   "execution_count": 35,
   "metadata": {},
   "outputs": [
    {
     "name": "stdout",
     "output_type": "stream",
     "text": [
      "DeleteMolecules\n"
     ]
    }
   ],
   "source": [
    "print(model.rules[model.rules[0]].rule_mod.type)"
   ]
  },
  {
   "cell_type": "code",
   "execution_count": null,
   "metadata": {},
   "outputs": [],
   "source": []
  }
 ],
 "metadata": {
  "kernelspec": {
   "display_name": "base",
   "language": "python",
   "name": "python3"
  },
  "language_info": {
   "codemirror_mode": {
    "name": "ipython",
    "version": 3
   },
   "file_extension": ".py",
   "mimetype": "text/x-python",
   "name": "python",
   "nbconvert_exporter": "python",
   "pygments_lexer": "ipython3",
   "version": "3.9.7"
  }
 },
 "nbformat": 4,
 "nbformat_minor": 2
}
