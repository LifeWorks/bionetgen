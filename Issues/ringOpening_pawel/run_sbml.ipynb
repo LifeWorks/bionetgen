{
 "cells": [
  {
   "cell_type": "code",
   "execution_count": 1,
   "metadata": {},
   "outputs": [],
   "source": [
    "import numpy as np\n",
    "import matplotlib.pyplot as plt\n",
    "import bionetgen\n",
    "import roadrunner\n"
   ]
  },
  {
   "cell_type": "code",
   "execution_count": 2,
   "metadata": {},
   "outputs": [],
   "source": [
    "# Load model from BNGL\n",
    "#model = bionetgen.bngmodel(\"sbml_express_ratelaw.bngl\") \n",
    "#sim = model.setup_simulator() # sim is a libroadrunner simulator object\n",
    "\n",
    "# Load model from SBML \n",
    "sim = roadrunner.RoadRunner(\"xyz_04_sbml.xml\")\n"
   ]
  },
  {
   "cell_type": "code",
   "execution_count": 5,
   "metadata": {},
   "outputs": [
    {
     "name": "stdout",
     "output_type": "stream",
     "text": [
      "1.0\n"
     ]
    },
    {
     "data": {
      "image/png": "[encoded data removed]",
      "text/plain": [
       "<Figure size 432x288 with 1 Axes>"
      ]
     },
     "metadata": {
      "needs_background": "light"
     },
     "output_type": "display_data"
    }
   ],
   "source": [
    "# Simulate using RoadRunner defaults (ODEs)\n",
    "sim.reset()\n",
    "sim.setIntegrator('gillespie')\n",
    "onames= ['XY']\n",
    "res= sim.simulate(0,10,1000,selections=['Time']+onames)\n",
    "# Plot observables\n",
    "for o in onames:\n",
    "    plt.plot(res['time'],res[o],label=o)\n",
    "plt.title(\"ODE simulation with default parameters\")\n",
    "_= plt.legend()\n",
    "print(res['XY'][-1])"
   ]
  },
  {
   "cell_type": "code",
   "execution_count": null,
   "metadata": {},
   "outputs": [],
   "source": []
  }
 ],
 "metadata": {
  "kernelspec": {
   "display_name": "base",
   "language": "python",
   "name": "python3"
  },
  "language_info": {
   "codemirror_mode": {
    "name": "ipython",
    "version": 3
   },
   "file_extension": ".py",
   "mimetype": "text/x-python",
   "name": "python",
   "nbconvert_exporter": "python",
   "pygments_lexer": "ipython3",
   "version": "3.9.7"
  }
 },
 "nbformat": 4,
 "nbformat_minor": 2
}
